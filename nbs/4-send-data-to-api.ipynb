{
 "cells": [
  {
   "cell_type": "code",
   "execution_count": 5,
   "id": "532fc9bd",
   "metadata": {},
   "outputs": [],
   "source": [
    "import requests\n",
    "base_url = 'http://localhost:8002'"
   ]
  },
  {
   "cell_type": "code",
   "execution_count": 8,
   "id": "e67eec88",
   "metadata": {},
   "outputs": [
    {
     "name": "stdout",
     "output_type": "stream",
     "text": [
      "{'date': 'Sun, 18 May 2025 20:09:21 GMT', 'server': 'uvicorn', 'content-length': '57', 'content-type': 'application/json'}\n",
      "ok ? True\n",
      "{'page': '/test2', 'description': 'test description', 'id': 1} <class 'dict'> None\n"
     ]
    }
   ],
   "source": [
    "create_path = '/api/events'\n",
    "create_endpoint = f'{base_url}{create_path}'\n",
    "\n",
    "headers = {\n",
    "    'content-type': 'application/json'\n",
    "}\n",
    "response = requests.post(create_endpoint, json={'page': '/test2', 'description': 'test description'})\n",
    "print(response.headers)\n",
    "print('ok ?', response.ok)\n",
    "\n",
    "if response.ok:\n",
    "    data = response.json()\n",
    "    print(data, type(data), data.get('results'))\n",
    "else:\n",
    "    \n",
    "    print(response.text)"
   ]
  },
  {
   "cell_type": "code",
   "execution_count": 4,
   "id": "d2ecea9a",
   "metadata": {},
   "outputs": [
    {
     "name": "stdout",
     "output_type": "stream",
     "text": [
      "{'date': 'Sun, 18 May 2025 20:03:30 GMT', 'server': 'uvicorn', 'content-length': '47', 'content-type': 'application/json'}\n",
      "ok ? True\n",
      "{'id': 12, 'description': 'hello world', 'page': ''} <class 'dict'> None\n"
     ]
    }
   ],
   "source": [
    "detail_path = '/api/events/12'\n",
    "detail_endpoint = f'{base_url}{detail_path}'\n",
    "\n",
    "headers = {\n",
    "    'content-type': 'application/json'\n",
    "}\n",
    "\n",
    "response = requests.put(detail_endpoint, json={'description': 'hello world'})\n",
    "print(response.headers)\n",
    "print('ok ?', response.ok)\n",
    "if response.ok:\n",
    "    data = response.json()\n",
    "    print(data, type(data), data.get('results'))\n",
    "else:\n",
    "    print(response.text)"
   ]
  },
  {
   "cell_type": "code",
   "execution_count": null,
   "id": "ae56a568",
   "metadata": {},
   "outputs": [],
   "source": []
  }
 ],
 "metadata": {
  "kernelspec": {
   "display_name": "venv",
   "language": "python",
   "name": "python3"
  },
  "language_info": {
   "codemirror_mode": {
    "name": "ipython",
    "version": 3
   },
   "file_extension": ".py",
   "mimetype": "text/x-python",
   "name": "python",
   "nbconvert_exporter": "python",
   "pygments_lexer": "ipython3",
   "version": "3.13.3"
  }
 },
 "nbformat": 4,
 "nbformat_minor": 5
}
