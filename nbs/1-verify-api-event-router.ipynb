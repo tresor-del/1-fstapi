{
 "cells": [
  {
   "cell_type": "code",
   "execution_count": 1,
   "id": "daad2830",
   "metadata": {},
   "outputs": [
    {
     "data": {
      "text/plain": [
       "'http://localhost:8002/api/events'"
      ]
     },
     "execution_count": 1,
     "metadata": {},
     "output_type": "execute_result"
    }
   ],
   "source": [
    "import requests\n",
    "path = '/api/events'\n",
    "base_url = 'http://localhost:8002'\n",
    "endpoint = f'{base_url}{path}'\n",
    "endpoint"
   ]
  },
  {
   "cell_type": "code",
   "execution_count": 7,
   "id": "9ae9a21d",
   "metadata": {},
   "outputs": [
    {
     "name": "stdout",
     "output_type": "stream",
     "text": [
      "True\n"
     ]
    }
   ],
   "source": [
    "response = requests.get(endpoint)\n",
    "print(response.ok)\n"
   ]
  },
  {
   "cell_type": "code",
   "execution_count": 8,
   "id": "3a42c6a1",
   "metadata": {},
   "outputs": [
    {
     "name": "stdout",
     "output_type": "stream",
     "text": [
      "{'results': [1, 2, 3]} <class 'dict'> None\n"
     ]
    }
   ],
   "source": [
    "if response.ok:\n",
    "    data = response.json()\n",
    "print(data, type(data), data.get('items'))"
   ]
  },
  {
   "cell_type": "code",
   "execution_count": null,
   "id": "042c0dc0",
   "metadata": {},
   "outputs": [],
   "source": []
  }
 ],
 "metadata": {
  "kernelspec": {
   "display_name": "venv",
   "language": "python",
   "name": "python3"
  },
  "language_info": {
   "codemirror_mode": {
    "name": "ipython",
    "version": 3
   },
   "file_extension": ".py",
   "mimetype": "text/x-python",
   "name": "python",
   "nbconvert_exporter": "python",
   "pygments_lexer": "ipython3",
   "version": "3.12.3"
  }
 },
 "nbformat": 4,
 "nbformat_minor": 5
}
